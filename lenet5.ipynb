{
 "cells": [
  {
   "cell_type": "code",
   "execution_count": 3,
   "id": "complicated-hours",
   "metadata": {},
   "outputs": [],
   "source": [
    "# I need to redo the basics in pytorch, I have forgotten it all.\n",
    "# Lets train a simple neural net to learn mnist\n",
    "import torch\n",
    "import torchvision\n",
    "import torchvision.transforms as transforms\n",
    "import numpy as np\n",
    "import matplotlib.pyplot as plt"
   ]
  },
  {
   "cell_type": "code",
   "execution_count": 131,
   "id": "future-cooperation",
   "metadata": {},
   "outputs": [],
   "source": [
    "# So first lets fetch the data\n",
    "data_transform = transforms.Compose([transforms.ToTensor(), transforms.Normalize((0.5,), (0.3,))])\n",
    "# download the data and apply above transform\n",
    "train_set = torchvision.datasets.MNIST('./data/', train=True, transform=data_transform, download=True)\n",
    "test_set = torchvision.datasets.MNIST('./data/', train=False, transform=data_transform, download=True)\n",
    "\n",
    "train_data = torch.utils.data.DataLoader(train_set, batch_size=500, shuffle=True)\n",
    "test_data = torch.utils.data.DataLoader(test_set, batch_size=10000, shuffle=True)"
   ]
  },
  {
   "cell_type": "code",
   "execution_count": 132,
   "id": "short-generation",
   "metadata": {},
   "outputs": [],
   "source": [
    "# lets define a very simple multi layer perceptron\n",
    "class mlp(torch.nn.Module):\n",
    "    def __init__(self, x_dim, y_dim, out_dim):\n",
    "        super().__init__()\n",
    "        self.n_input_pixels = x_dim * y_dim\n",
    "        self.layers = torch.nn.Sequential(\n",
    "            torch.nn.Linear(x_dim * y_dim, 500),\n",
    "            torch.nn.ReLU(),\n",
    "            torch.nn.Linear(500, 256),\n",
    "            torch.nn.ReLU(),\n",
    "            torch.nn.Linear(256, 10)\n",
    "        )\n",
    "    \n",
    "    def forward_pass(self, x):\n",
    "        # forward pass through the layers, applying a nonlinearity each time\n",
    "        x = x.view(-1, self.n_input_pixels)\n",
    "        return self.layers(x)"
   ]
  },
  {
   "cell_type": "code",
   "execution_count": 133,
   "id": "infinite-planning",
   "metadata": {},
   "outputs": [],
   "source": [
    "# so that was alright, lets try lenet5\n",
    "class lenet(torch.nn.Module):\n",
    "    def __init__(self):\n",
    "        \"\"\"\n",
    "        [conv -> pool] * 2 -> [dense] * 3\n",
    "        \"\"\"\n",
    "        super().__init__()\n",
    "        self.conv1 = torch.nn.Conv2d(1, 6, 5, padding=2)\n",
    "        self.pool1 = torch.nn.AvgPool2d(2, 2)\n",
    "        self.conv2 = torch.nn.Conv2d(6, 16, 5)\n",
    "        self.pool2 = torch.nn.AvgPool2d(2, 2)\n",
    "        self.linear1 = torch.nn.Linear(400, 120)\n",
    "        self.linear2 = torch.nn.Linear(120, 84)\n",
    "        self.linear3 = torch.nn.Linear(84, 10)\n",
    "        \n",
    "    def forward_pass(self, x):\n",
    "        x = torch.nn.functional.relu(self.conv1(x))\n",
    "        x = self.pool1(x)\n",
    "        x = torch.nn.functional.relu(self.conv2(x))\n",
    "        x = self.pool2(x)\n",
    "        x = x.view(-1, 400)\n",
    "        x = torch.nn.functional.relu(self.linear1(x))\n",
    "        x = torch.nn.functional.relu(self.linear2(x))\n",
    "        x = self.linear3(x)\n",
    "        return x\n",
    "        "
   ]
  },
  {
   "cell_type": "code",
   "execution_count": 150,
   "id": "spanish-sapphire",
   "metadata": {},
   "outputs": [
    {
     "name": "stdout",
     "output_type": "stream",
     "text": [
      "Epoch:  0\n",
      "2.0966102734208105\n",
      "Epoch:  1\n",
      "1.26445792807887\n",
      "Epoch:  2\n",
      "0.9168419325517283\n",
      "Epoch:  3\n",
      "0.7282810092593233\n",
      "Epoch:  4\n",
      "0.6076281255607804\n",
      "Epoch:  5\n",
      "0.5235207958457371\n",
      "Epoch:  6\n",
      "0.4615243908550058\n",
      "Epoch:  7\n",
      "0.4138150837505236\n",
      "Epoch:  8\n",
      "0.37562657974108504\n",
      "Epoch:  9\n",
      "0.3444224776125823\n"
     ]
    }
   ],
   "source": [
    "# main\n",
    "#model = mlp(28, 28, 10)\n",
    "model = lenet()\n",
    "model_optimizer = torch.optim.SGD(model.parameters(), lr=0.01, momentum=0.9)\n",
    "loss_function = torch.nn.CrossEntropyLoss()\n",
    "\n",
    "num_epochs = 10\n",
    "loss = []\n",
    "for epoch in range(num_epochs):\n",
    "    print(\"Epoch: \", epoch)\n",
    "    for indices, (data, label) in enumerate(train_data):\n",
    "        model_optimizer.zero_grad()\n",
    "        data_var, label_var = torch.autograd.Variable(data), torch.autograd.Variable(label)\n",
    "        model_prediction = model.forward_pass(data_var)\n",
    "        prediction_loss = loss_function(model_prediction, label_var)\n",
    "        loss.append(prediction_loss.item())\n",
    "        prediction_loss.backward()\n",
    "        model_optimizer.step()\n",
    "    print(sum(loss)/len(loss))"
   ]
  },
  {
   "cell_type": "code",
   "execution_count": 151,
   "id": "absolute-compression",
   "metadata": {},
   "outputs": [
    {
     "data": {
      "text/plain": [
       "[<matplotlib.lines.Line2D at 0x122fe9810>]"
      ]
     },
     "execution_count": 151,
     "metadata": {},
     "output_type": "execute_result"
    },
    {
     "data": {
      "image/png": "[encoded data removed]",
      "text/plain": [
       "<Figure size 432x288 with 1 Axes>"
      ]
     },
     "metadata": {
      "needs_background": "light"
     },
     "output_type": "display_data"
    }
   ],
   "source": [
    "plt.plot([i for i in range(len(loss))], loss)"
   ]
  },
  {
   "cell_type": "code",
   "execution_count": 152,
   "id": "great-assault",
   "metadata": {},
   "outputs": [
    {
     "name": "stdout",
     "output_type": "stream",
     "text": [
      "tensor(9800) 10000\n"
     ]
    }
   ],
   "source": [
    "# lets test out how well the model performs\n",
    "correct = 0\n",
    "total = 0\n",
    "for indices, (data, label) in enumerate(test_data):\n",
    "    data_var, label_var = torch.autograd.Variable(data), torch.autograd.Variable(label)\n",
    "    model_prediction = model.forward_pass(data_var)\n",
    "    _, prediction_label = torch.max(model_prediction.data, dim=1)\n",
    "    correct += (prediction_label == label_var.data).sum()\n",
    "    total += len(label_var.data)\n",
    "print(correct, total)"
   ]
  },
  {
   "cell_type": "code",
   "execution_count": 148,
   "id": "advised-victory",
   "metadata": {},
   "outputs": [
    {
     "name": "stdout",
     "output_type": "stream",
     "text": [
      "tensor(4)\n",
      "tensor([4])\n"
     ]
    },
    {
     "data": {
      "image/png": "[encoded data removed]",
      "text/plain": [
       "<Figure size 432x288 with 1 Axes>"
      ]
     },
     "metadata": {
      "needs_background": "light"
     },
     "output_type": "display_data"
    }
   ],
   "source": [
    "for x, y in test_data:\n",
    "    print(y[0])\n",
    "    pred = model.forward_pass(torch.autograd.Variable(x[0]))\n",
    "    _, pred_label = torch.max(pred.data, dim=1)\n",
    "    print(pred_label)\n",
    "    plt.imshow(x[0].reshape(28, 28))"
   ]
  },
  {
   "cell_type": "code",
   "execution_count": 142,
   "id": "owned-revolution",
   "metadata": {},
   "outputs": [],
   "source": [
    "# Ok so that was alright, let trys the lenet 5"
   ]
  },
  {
   "cell_type": "code",
   "execution_count": null,
   "id": "determined-banking",
   "metadata": {},
   "outputs": [],
   "source": []
  }
 ],
 "metadata": {
  "kernelspec": {
   "display_name": "Python 3",
   "language": "python",
   "name": "python3"
  },
  "language_info": {
   "codemirror_mode": {
    "name": "ipython",
    "version": 3
   },
   "file_extension": ".py",
   "mimetype": "text/x-python",
   "name": "python",
   "nbconvert_exporter": "python",
   "pygments_lexer": "ipython3",
   "version": "3.7.6"
  }
 },
 "nbformat": 4,
 "nbformat_minor": 5
}
