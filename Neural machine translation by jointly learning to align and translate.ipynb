{
 "cells": [
  {
   "cell_type": "code",
   "execution_count": null,
   "id": "adopted-lying",
   "metadata": {},
   "outputs": [],
   "source": [
    "# Ok lets start with bahdanau attention paper\n",
    "\"\"\"\n",
    "Note to checkout graves paper on rnns + lstm for background and sutskever paper sequ2seq learning with NN\n",
    "\"\"\"\n",
    "# this paper addresses the limitation of having a model where a sequence is compressed into a fixed length vector.\n",
    "# cho et al 2014 show that the performance of such a model deteriorates as the input length size grows.\n",
    "# The proposed model does not compress sequence into fixed length vector, but rather compresses it into a sequence\n",
    "# vectors and chooses a window over this representation as it decompresses into target sequence.\n",
    "# I feel kind of out of my element here, need to refresh on bptt and rnn mechanics!!!"
   ]
  },
  {
   "cell_type": "code",
   "execution_count": null,
   "id": "agricultural-tissue",
   "metadata": {},
   "outputs": [],
   "source": []
  },
  {
   "cell_type": "code",
   "execution_count": null,
   "id": "wired-weapon",
   "metadata": {},
   "outputs": [],
   "source": []
  },
  {
   "cell_type": "code",
   "execution_count": null,
   "id": "worst-porter",
   "metadata": {},
   "outputs": [],
   "source": []
  },
  {
   "cell_type": "code",
   "execution_count": null,
   "id": "intense-labor",
   "metadata": {},
   "outputs": [],
   "source": []
  }
 ],
 "metadata": {
  "kernelspec": {
   "display_name": "Python 3",
   "language": "python",
   "name": "python3"
  },
  "language_info": {
   "codemirror_mode": {
    "name": "ipython",
    "version": 3
   },
   "file_extension": ".py",
   "mimetype": "text/x-python",
   "name": "python",
   "nbconvert_exporter": "python",
   "pygments_lexer": "ipython3",
   "version": "3.7.6"
  }
 },
 "nbformat": 4,
 "nbformat_minor": 5
}
