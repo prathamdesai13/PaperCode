{
  "nbformat": 4,
  "nbformat_minor": 0,
  "metadata": {
    "colab": {
      "provenance": [],
      "gpuType": "T4",
      "authorship_tag": "ABX9TyPei7lm2Ff2WvIVBP9nwr2j"
    },
    "kernelspec": {
      "name": "python3",
      "display_name": "Python 3"
    },
    "language_info": {
      "name": "python"
    },
    "accelerator": "GPU",
    "gpuClass": "standard"
  },
  "cells": [
    {
      "cell_type": "code",
      "execution_count": 60,
      "metadata": {
        "id": "ZHdI8yS3cwgJ"
      },
      "outputs": [],
      "source": [
        "# lets make a transformer\n",
        "# things to note: colab wont let me use gpu forever, so I will eventually need\n",
        "# include a save point every e epochs.\n",
        "\n",
        "import torch\n",
        "import matplotlib.pyplot as plt"
      ]
    },
    {
      "cell_type": "code",
      "source": [
        "# ok wow I didnt know karpathy just has an endpoint to download the tiny shakespeare set.\n",
        "# very nice.\n",
        "!wget https://raw.githubusercontent.com/karpathy/char-rnn/master/data/tinyshakespeare/input.txt"
      ],
      "metadata": {
        "colab": {
          "base_uri": "https://localhost:8080/"
        },
        "id": "QlPgZJ41dqYF",
        "outputId": "3366bc3e-8b9f-4407-eb31-54eab5684613"
      },
      "execution_count": 48,
      "outputs": [
        {
          "output_type": "stream",
          "name": "stdout",
          "text": [
            "--2023-05-06 23:22:37--  https://raw.githubusercontent.com/karpathy/char-rnn/master/data/tinyshakespeare/input.txt\n",
            "Resolving raw.githubusercontent.com (raw.githubusercontent.com)... 185.199.108.133, 185.199.109.133, 185.199.110.133, ...\n",
            "Connecting to raw.githubusercontent.com (raw.githubusercontent.com)|185.199.108.133|:443... connected.\n",
            "HTTP request sent, awaiting response... 200 OK\n",
            "Length: 1115394 (1.1M) [text/plain]\n",
            "Saving to: ‘input.txt.2’\n",
            "\n",
            "\rinput.txt.2           0%[                    ]       0  --.-KB/s               \rinput.txt.2         100%[===================>]   1.06M  --.-KB/s    in 0.06s   \n",
            "\n",
            "2023-05-06 23:22:37 (19.2 MB/s) - ‘input.txt.2’ saved [1115394/1115394]\n",
            "\n"
          ]
        }
      ]
    },
    {
      "cell_type": "code",
      "source": [
        "# so lets first take a look at the data, get a feel for it.\n",
        "with open(\"input.txt\", \"r\") as f:\n",
        "  data = f.read()\n",
        "\n",
        "print(\"Number of characters: \", len(data))\n",
        "# print(\"First 100 characters:\\n\", data[:100])\n",
        "\n",
        "# get the dataset vocab\n",
        "vocab = list(set(data))\n",
        "print(\"Size of vocab: \", len(vocab))\n",
        "print(\"Vocab: \", vocab)"
      ],
      "metadata": {
        "colab": {
          "base_uri": "https://localhost:8080/"
        },
        "id": "Nf5FAlFTd6-W",
        "outputId": "6f426efc-edef-47b4-add9-00ffae520034"
      },
      "execution_count": 49,
      "outputs": [
        {
          "output_type": "stream",
          "name": "stdout",
          "text": [
            "Number of characters:  1115394\n",
            "Size of vocab:  65\n",
            "Vocab:  ['G', 'I', 'f', 'A', 'O', 'K', 'd', 'Y', 'W', 'S', 'x', '.', 'g', 'C', '!', 'B', \"'\", ';', '-', 'p', 'k', '&', 'Z', 'E', 'm', 'h', ',', '3', '\\n', 'U', 'Q', 's', 'z', 'j', 'i', 'N', ' ', 'l', 'D', '?', 'M', 'V', 'v', 'c', 'L', 't', 'R', 'P', 'a', 'n', 'o', 'b', 'X', 'e', 'y', 'T', 'w', 'F', 'J', 'u', 'r', 'q', '$', ':', 'H']\n"
          ]
        }
      ]
    },
    {
      "cell_type": "code",
      "source": [
        "# set up mapping for vocab chars to indices and viceversa\n",
        "char2idx = {}\n",
        "idx2char = {}\n",
        "for i in range(len(vocab)):\n",
        "  char2idx[vocab[i]] = i\n",
        "  idx2char[i] = vocab[i]\n",
        "\n",
        "print(\"Character to index mapping: \", char2idx)\n",
        "print(\"Index to character mapping: \", idx2char)\n",
        "\n",
        "# weve now got a way to encode a sentence into indices and decode it back into a sentence\n",
        "def encode_sequence(sequence):\n",
        "  return [char2idx[char] for char in sequence]\n",
        "\n",
        "def decode_indices(idx_sequence):\n",
        "  return [idx2char[i] for i in idx_sequence]\n",
        "\n",
        "print(encode_sequence(\"hello bob\"))\n",
        "print(decode_indices(encode_sequence(\"hello bob\")))\n",
        "\n",
        "# lifted basically from karpathy: convert data into 1 dim tensor for input into model\n",
        "data_tensor = torch.tensor(encode_sequence(data), dtype=torch.long)\n",
        "print(data_tensor.shape)\n",
        "\n",
        "train_size = 0.85\n",
        "split = int(train_size * len(data))\n",
        "train_tensor = data_tensor[:split]\n",
        "test_tensor = data_tensor[split:]\n",
        "\n",
        "# batch_size = 8\n",
        "# context_size = 8\n",
        "# data batching\n",
        "def batch_data(data, context_size, batch_size):\n",
        "  # random sampling of data, returns tensors of shape (context_size, batch_size)\n",
        "  rand_idx = torch.randint(low=0, high=len(data) - context_size, size=(batch_size, ))\n",
        "  #print(torch.stack([data[:context_size], data[1:1 + context_size]]))\n",
        "  inputs = torch.stack([data[i:i + context_size] for i in rand_idx])\n",
        "  targets = torch.stack([data[i + 1: i + context_size + 1] for i in rand_idx])\n",
        "  return inputs, targets\n",
        "\"\"\"\n",
        "batch_x, batch_y = batch_data(train_tensor, context_size, batch_size)\n",
        "#print(batch_x)\n",
        "#print(batch_y)\n",
        "\n",
        "# idea of training with context length, each target at time t will be\n",
        "# conditioned on previous t inputs.\n",
        "for batch in range(batch_size):\n",
        "  for cl in range(context_size): # dually iterating over time as char at time t is your target for input of length t.\n",
        "    curr_context = batch_x[batch, :cl + 1]\n",
        "    target = batch_y[batch, cl]\n",
        "\n",
        "    # print(f\"Input {curr_context} and target {target}\")\n",
        "\"\"\""
      ],
      "metadata": {
        "colab": {
          "base_uri": "https://localhost:8080/"
        },
        "id": "YvGDhoAYmnSP",
        "outputId": "a9dbf28c-f9b5-4dc5-dada-dd59a3480c13"
      },
      "execution_count": 50,
      "outputs": [
        {
          "output_type": "stream",
          "name": "stdout",
          "text": [
            "Character to index mapping:  {'G': 0, 'I': 1, 'f': 2, 'A': 3, 'O': 4, 'K': 5, 'd': 6, 'Y': 7, 'W': 8, 'S': 9, 'x': 10, '.': 11, 'g': 12, 'C': 13, '!': 14, 'B': 15, \"'\": 16, ';': 17, '-': 18, 'p': 19, 'k': 20, '&': 21, 'Z': 22, 'E': 23, 'm': 24, 'h': 25, ',': 26, '3': 27, '\\n': 28, 'U': 29, 'Q': 30, 's': 31, 'z': 32, 'j': 33, 'i': 34, 'N': 35, ' ': 36, 'l': 37, 'D': 38, '?': 39, 'M': 40, 'V': 41, 'v': 42, 'c': 43, 'L': 44, 't': 45, 'R': 46, 'P': 47, 'a': 48, 'n': 49, 'o': 50, 'b': 51, 'X': 52, 'e': 53, 'y': 54, 'T': 55, 'w': 56, 'F': 57, 'J': 58, 'u': 59, 'r': 60, 'q': 61, '$': 62, ':': 63, 'H': 64}\n",
            "Index to character mapping:  {0: 'G', 1: 'I', 2: 'f', 3: 'A', 4: 'O', 5: 'K', 6: 'd', 7: 'Y', 8: 'W', 9: 'S', 10: 'x', 11: '.', 12: 'g', 13: 'C', 14: '!', 15: 'B', 16: \"'\", 17: ';', 18: '-', 19: 'p', 20: 'k', 21: '&', 22: 'Z', 23: 'E', 24: 'm', 25: 'h', 26: ',', 27: '3', 28: '\\n', 29: 'U', 30: 'Q', 31: 's', 32: 'z', 33: 'j', 34: 'i', 35: 'N', 36: ' ', 37: 'l', 38: 'D', 39: '?', 40: 'M', 41: 'V', 42: 'v', 43: 'c', 44: 'L', 45: 't', 46: 'R', 47: 'P', 48: 'a', 49: 'n', 50: 'o', 51: 'b', 52: 'X', 53: 'e', 54: 'y', 55: 'T', 56: 'w', 57: 'F', 58: 'J', 59: 'u', 60: 'r', 61: 'q', 62: '$', 63: ':', 64: 'H'}\n",
            "[25, 53, 37, 37, 50, 36, 51, 50, 51]\n",
            "['h', 'e', 'l', 'l', 'o', ' ', 'b', 'o', 'b']\n",
            "torch.Size([1115394])\n"
          ]
        }
      ]
    },
    {
      "cell_type": "code",
      "source": [
        "device = 'cuda' if torch.cuda.is_available() else 'cpu'\n",
        "print(\"We are using device:\", device)"
      ],
      "metadata": {
        "colab": {
          "base_uri": "https://localhost:8080/"
        },
        "id": "BVLArTMwu0fz",
        "outputId": "f4c12472-f3c6-4bf9-be00-fb968c678751"
      },
      "execution_count": 62,
      "outputs": [
        {
          "output_type": "stream",
          "name": "stdout",
          "text": [
            "We are using device: cuda\n"
          ]
        }
      ]
    },
    {
      "cell_type": "code",
      "source": [
        "# Bigram model: P[next char | all previous chars] = P[next_char | last char]\n",
        "class BigramLM(torch.nn.Module):\n",
        "  def __init__(self, vocab_size):\n",
        "    super().__init__()\n",
        "    self.embedding = torch.nn.Embedding(vocab_size, vocab_size)\n",
        "\n",
        "  def forward(self, input_sequence, target_sequence):\n",
        "    # input_sequence is tensor of indices which map to chars in vocab\n",
        "    # probs: (batch_size, context_size, vocab_size) : probability of chars\n",
        "    probs = self.embedding(input_sequence) # trainable embeddings\n",
        "    cross_entropy_loss = None\n",
        "    if target_sequence:\n",
        "      batch_size, context_size, vocab_size = probs.shape\n",
        "      probs = probs.view(batch_size * context_size, vocab_size)\n",
        "      targets = target_sequence.view(batch_size * context_size)\n",
        "      cross_entropy_loss = torch.nn.functional.cross_entropy(probs, targets)\n",
        "    return cross_entropy_loss, probs"
      ],
      "metadata": {
        "colab": {
          "base_uri": "https://localhost:8080/"
        },
        "id": "2C0VugqJu3rz",
        "outputId": "0d1fbe62-aafa-4423-f656-235a8bb731ba"
      },
      "execution_count": 56,
      "outputs": [
        {
          "output_type": "stream",
          "name": "stdout",
          "text": [
            "torch.Size([8, 8])\n",
            "torch.Size([8, 8])\n"
          ]
        }
      ]
    },
    {
      "cell_type": "code",
      "source": [
        "# train bigram model\n",
        "vocab_size = len(vocab)\n",
        "learning_rate = 1e-3\n",
        "batch_size = 32\n",
        "context_size = 8\n",
        "max_steps = 100000\n",
        "losses = []\n",
        "bigram_model = BigramLM(vocab_size)\n",
        "model_optimizer= torch.optim.AdamW(bigram_model.parameters(), learning_rate)\n",
        "for steps in range(max_steps):\n",
        "  model_optimizer.zero_grad(set_to_none=True)\n",
        "  batch_x, batch_y = batch_data(train_tensor, context_size, batch_size)\n",
        "  loss, probs = bigram_model.forward(batch_x, batch_y)\n",
        "  loss.backward()\n",
        "  model_optimizer.step()\n",
        "  losses.append(loss)\n",
        "  if (steps % 1000 == 0):\n",
        "    print(f\"Loss at step {steps}: {loss}\")"
      ],
      "metadata": {
        "colab": {
          "base_uri": "https://localhost:8080/"
        },
        "id": "IN81UbeYbyAw",
        "outputId": "5e1cbaf6-0b26-4f99-bbee-b921f0f3f9cc"
      },
      "execution_count": 63,
      "outputs": [
        {
          "output_type": "stream",
          "name": "stdout",
          "text": [
            "Loss at step 0: 4.4974212646484375\n",
            "Loss at step 1000: 3.641451597213745\n",
            "Loss at step 2000: 3.0416979789733887\n",
            "Loss at step 3000: 2.7326436042785645\n",
            "Loss at step 4000: 2.5378782749176025\n",
            "Loss at step 5000: 2.4051899909973145\n",
            "Loss at step 6000: 2.551860809326172\n",
            "Loss at step 7000: 2.4852519035339355\n",
            "Loss at step 8000: 2.5229570865631104\n",
            "Loss at step 9000: 2.5631020069122314\n",
            "Loss at step 10000: 2.495582103729248\n",
            "Loss at step 11000: 2.53591251373291\n",
            "Loss at step 12000: 2.452518939971924\n",
            "Loss at step 13000: 2.417423725128174\n",
            "Loss at step 14000: 2.495526075363159\n",
            "Loss at step 15000: 2.3976593017578125\n",
            "Loss at step 16000: 2.4365439414978027\n",
            "Loss at step 17000: 2.4041643142700195\n",
            "Loss at step 18000: 2.549086570739746\n",
            "Loss at step 19000: 2.347890615463257\n",
            "Loss at step 20000: 2.438453435897827\n",
            "Loss at step 21000: 2.396827220916748\n",
            "Loss at step 22000: 2.4625070095062256\n",
            "Loss at step 23000: 2.5764241218566895\n",
            "Loss at step 24000: 2.385042190551758\n",
            "Loss at step 25000: 2.5515851974487305\n",
            "Loss at step 26000: 2.4962713718414307\n",
            "Loss at step 27000: 2.49617338180542\n",
            "Loss at step 28000: 2.484628200531006\n",
            "Loss at step 29000: 2.4799983501434326\n",
            "Loss at step 30000: 2.4627227783203125\n",
            "Loss at step 31000: 2.5053391456604004\n",
            "Loss at step 32000: 2.4854578971862793\n",
            "Loss at step 33000: 2.4543068408966064\n",
            "Loss at step 34000: 2.4909393787384033\n",
            "Loss at step 35000: 2.4830873012542725\n",
            "Loss at step 36000: 2.4491519927978516\n",
            "Loss at step 37000: 2.4744622707366943\n",
            "Loss at step 38000: 2.4768590927124023\n",
            "Loss at step 39000: 2.402050018310547\n",
            "Loss at step 40000: 2.3725903034210205\n",
            "Loss at step 41000: 2.4043543338775635\n",
            "Loss at step 42000: 2.496887683868408\n",
            "Loss at step 43000: 2.4705891609191895\n",
            "Loss at step 44000: 2.4515295028686523\n",
            "Loss at step 45000: 2.423614501953125\n",
            "Loss at step 46000: 2.330685615539551\n",
            "Loss at step 47000: 2.397054672241211\n",
            "Loss at step 48000: 2.3966193199157715\n",
            "Loss at step 49000: 2.449009418487549\n",
            "Loss at step 50000: 2.3781466484069824\n",
            "Loss at step 51000: 2.529562473297119\n",
            "Loss at step 52000: 2.356501817703247\n",
            "Loss at step 53000: 2.382876396179199\n",
            "Loss at step 54000: 2.4642932415008545\n",
            "Loss at step 55000: 2.4443399906158447\n",
            "Loss at step 56000: 2.4243791103363037\n",
            "Loss at step 57000: 2.457784414291382\n",
            "Loss at step 58000: 2.405559539794922\n",
            "Loss at step 59000: 2.349126100540161\n",
            "Loss at step 60000: 2.312894105911255\n",
            "Loss at step 61000: 2.4781219959259033\n",
            "Loss at step 62000: 2.3957347869873047\n",
            "Loss at step 63000: 2.4564168453216553\n",
            "Loss at step 64000: 2.3746795654296875\n",
            "Loss at step 65000: 2.2975354194641113\n",
            "Loss at step 66000: 2.368156671524048\n",
            "Loss at step 67000: 2.5657293796539307\n",
            "Loss at step 68000: 2.5310256481170654\n",
            "Loss at step 69000: 2.4907236099243164\n",
            "Loss at step 70000: 2.4725449085235596\n",
            "Loss at step 71000: 2.5080201625823975\n",
            "Loss at step 72000: 2.3066983222961426\n",
            "Loss at step 73000: 2.284517526626587\n",
            "Loss at step 74000: 2.472606658935547\n",
            "Loss at step 75000: 2.490572452545166\n",
            "Loss at step 76000: 2.451225996017456\n",
            "Loss at step 77000: 2.5245800018310547\n",
            "Loss at step 78000: 2.3567142486572266\n",
            "Loss at step 79000: 2.5100276470184326\n",
            "Loss at step 80000: 2.339714527130127\n",
            "Loss at step 81000: 2.479381561279297\n",
            "Loss at step 82000: 2.3935773372650146\n",
            "Loss at step 83000: 2.4639453887939453\n",
            "Loss at step 84000: 2.580958127975464\n",
            "Loss at step 85000: 2.392963409423828\n",
            "Loss at step 86000: 2.5497031211853027\n",
            "Loss at step 87000: 2.5470354557037354\n",
            "Loss at step 88000: 2.4331912994384766\n",
            "Loss at step 89000: 2.406111001968384\n",
            "Loss at step 90000: 2.5481913089752197\n",
            "Loss at step 91000: 2.4224159717559814\n",
            "Loss at step 92000: 2.4783196449279785\n",
            "Loss at step 93000: 2.675499439239502\n",
            "Loss at step 94000: 2.3616347312927246\n",
            "Loss at step 95000: 2.3571395874023438\n",
            "Loss at step 96000: 2.547649383544922\n",
            "Loss at step 97000: 2.463020086288452\n",
            "Loss at step 98000: 2.5743706226348877\n",
            "Loss at step 99000: 2.529637336730957\n"
          ]
        }
      ]
    },
    {
      "cell_type": "code",
      "source": [
        "print(losses[0].item())\n",
        "x_axis = [i for i in range(len(losses))]\n",
        "y_axis = [losses[i].item() for i in range(len(losses))]\n",
        "plt.plot(x_axis, y_axis)\n",
        "plt.show()"
      ],
      "metadata": {
        "colab": {
          "base_uri": "https://localhost:8080/",
          "height": 448
        },
        "id": "tctqPCGweG0w",
        "outputId": "39327c85-6028-4cf4-ede0-438948391e00"
      },
      "execution_count": 69,
      "outputs": [
        {
          "output_type": "stream",
          "name": "stdout",
          "text": [
            "4.4974212646484375\n"
          ]
        },
        {
          "output_type": "display_data",
          "data": {
            "text/plain": [
              "<Figure size 640x480 with 1 Axes>"
            ],
            "image/png": "[encoded data removed]"
          },
          "metadata": {}
        }
      ]
    },
    {
      "cell_type": "code",
      "source": [
        "# Rnn model"
      ],
      "metadata": {
        "id": "3XzxsaLpvpBg"
      },
      "execution_count": null,
      "outputs": []
    },
    {
      "cell_type": "code",
      "source": [
        "# transformer"
      ],
      "metadata": {
        "id": "qEOoQ_zBvqm7"
      },
      "execution_count": null,
      "outputs": []
    },
    {
      "cell_type": "code",
      "source": [
        "# the actual main training loop"
      ],
      "metadata": {
        "colab": {
          "base_uri": "https://localhost:8080/"
        },
        "id": "lpDn-GFyoRBE",
        "outputId": "ff9cc397-a3aa-4d55-964a-17e1a5f436de"
      },
      "execution_count": 11,
      "outputs": [
        {
          "output_type": "stream",
          "name": "stdout",
          "text": [
            "We are using device: cuda\n"
          ]
        }
      ]
    }
  ]
}